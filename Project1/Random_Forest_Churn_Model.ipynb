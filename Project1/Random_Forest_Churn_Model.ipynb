{
 "cells": [
  {
   "cell_type": "code",
   "execution_count": 1,
   "id": "99f202ca",
   "metadata": {},
   "outputs": [],
   "source": [
    "import pandas as pd\n",
    "import matplotlib.pyplot as plt\n",
    "import seaborn as sns\n",
    "\n",
    "from sklearn.ensemble import RandomForestClassifier\n",
    "\n",
    "from sklearn.model_selection import train_test_split"
   ]
  },
  {
   "cell_type": "code",
   "execution_count": 2,
   "id": "2492ece3",
   "metadata": {
    "scrolled": true
   },
   "outputs": [
    {
     "name": "stdout",
     "output_type": "stream",
     "text": [
      "<class 'pandas.core.frame.DataFrame'>\n",
      "RangeIndex: 7043 entries, 0 to 7042\n",
      "Data columns (total 33 columns):\n",
      " #   Column             Non-Null Count  Dtype  \n",
      "---  ------             --------------  -----  \n",
      " 0   CustomerID         7043 non-null   object \n",
      " 1   Count              7043 non-null   int64  \n",
      " 2   Country            7043 non-null   object \n",
      " 3   State              7043 non-null   object \n",
      " 4   City               7043 non-null   object \n",
      " 5   Zip Code           7043 non-null   int64  \n",
      " 6   Lat Long           7043 non-null   object \n",
      " 7   Latitude           7043 non-null   float64\n",
      " 8   Longitude          7043 non-null   float64\n",
      " 9   Gender             7043 non-null   object \n",
      " 10  Senior Citizen     7043 non-null   object \n",
      " 11  Partner            7043 non-null   object \n",
      " 12  Dependents         7043 non-null   object \n",
      " 13  Tenure Months      7043 non-null   int64  \n",
      " 14  Phone Service      7043 non-null   object \n",
      " 15  Multiple Lines     7043 non-null   object \n",
      " 16  Internet Service   7043 non-null   object \n",
      " 17  Online Security    7043 non-null   object \n",
      " 18  Online Backup      7043 non-null   object \n",
      " 19  Device Protection  7043 non-null   object \n",
      " 20  Tech Support       7043 non-null   object \n",
      " 21  Streaming TV       7043 non-null   object \n",
      " 22  Streaming Movies   7043 non-null   object \n",
      " 23  Contract           7043 non-null   object \n",
      " 24  Paperless Billing  7043 non-null   object \n",
      " 25  Payment Method     7043 non-null   object \n",
      " 26  Monthly Charges    7043 non-null   float64\n",
      " 27  Total Charges      7043 non-null   object \n",
      " 28  Churn Label        7043 non-null   object \n",
      " 29  Churn Value        7043 non-null   int64  \n",
      " 30  Churn Score        7043 non-null   int64  \n",
      " 31  CLTV               7043 non-null   int64  \n",
      " 32  Churn Reason       1869 non-null   object \n",
      "dtypes: float64(3), int64(6), object(24)\n",
      "memory usage: 1.8+ MB\n"
     ]
    },
    {
     "data": {
      "text/html": [
       "<div>\n",
       "<style scoped>\n",
       "    .dataframe tbody tr th:only-of-type {\n",
       "        vertical-align: middle;\n",
       "    }\n",
       "\n",
       "    .dataframe tbody tr th {\n",
       "        vertical-align: top;\n",
       "    }\n",
       "\n",
       "    .dataframe thead th {\n",
       "        text-align: right;\n",
       "    }\n",
       "</style>\n",
       "<table border=\"1\" class=\"dataframe\">\n",
       "  <thead>\n",
       "    <tr style=\"text-align: right;\">\n",
       "      <th></th>\n",
       "      <th>CustomerID</th>\n",
       "      <th>Count</th>\n",
       "      <th>Country</th>\n",
       "      <th>State</th>\n",
       "      <th>City</th>\n",
       "      <th>Zip Code</th>\n",
       "      <th>Lat Long</th>\n",
       "      <th>Latitude</th>\n",
       "      <th>Longitude</th>\n",
       "      <th>Gender</th>\n",
       "      <th>...</th>\n",
       "      <th>Contract</th>\n",
       "      <th>Paperless Billing</th>\n",
       "      <th>Payment Method</th>\n",
       "      <th>Monthly Charges</th>\n",
       "      <th>Total Charges</th>\n",
       "      <th>Churn Label</th>\n",
       "      <th>Churn Value</th>\n",
       "      <th>Churn Score</th>\n",
       "      <th>CLTV</th>\n",
       "      <th>Churn Reason</th>\n",
       "    </tr>\n",
       "  </thead>\n",
       "  <tbody>\n",
       "    <tr>\n",
       "      <th>0</th>\n",
       "      <td>3668-QPYBK</td>\n",
       "      <td>1</td>\n",
       "      <td>United States</td>\n",
       "      <td>California</td>\n",
       "      <td>Los Angeles</td>\n",
       "      <td>90003</td>\n",
       "      <td>33.964131, -118.272783</td>\n",
       "      <td>33.964131</td>\n",
       "      <td>-118.272783</td>\n",
       "      <td>Male</td>\n",
       "      <td>...</td>\n",
       "      <td>Month-to-month</td>\n",
       "      <td>Yes</td>\n",
       "      <td>Mailed check</td>\n",
       "      <td>53.85</td>\n",
       "      <td>108.15</td>\n",
       "      <td>Yes</td>\n",
       "      <td>1</td>\n",
       "      <td>86</td>\n",
       "      <td>3239</td>\n",
       "      <td>Competitor made better offer</td>\n",
       "    </tr>\n",
       "    <tr>\n",
       "      <th>1</th>\n",
       "      <td>9237-HQITU</td>\n",
       "      <td>1</td>\n",
       "      <td>United States</td>\n",
       "      <td>California</td>\n",
       "      <td>Los Angeles</td>\n",
       "      <td>90005</td>\n",
       "      <td>34.059281, -118.30742</td>\n",
       "      <td>34.059281</td>\n",
       "      <td>-118.307420</td>\n",
       "      <td>Female</td>\n",
       "      <td>...</td>\n",
       "      <td>Month-to-month</td>\n",
       "      <td>Yes</td>\n",
       "      <td>Electronic check</td>\n",
       "      <td>70.70</td>\n",
       "      <td>151.65</td>\n",
       "      <td>Yes</td>\n",
       "      <td>1</td>\n",
       "      <td>67</td>\n",
       "      <td>2701</td>\n",
       "      <td>Moved</td>\n",
       "    </tr>\n",
       "    <tr>\n",
       "      <th>2</th>\n",
       "      <td>9305-CDSKC</td>\n",
       "      <td>1</td>\n",
       "      <td>United States</td>\n",
       "      <td>California</td>\n",
       "      <td>Los Angeles</td>\n",
       "      <td>90006</td>\n",
       "      <td>34.048013, -118.293953</td>\n",
       "      <td>34.048013</td>\n",
       "      <td>-118.293953</td>\n",
       "      <td>Female</td>\n",
       "      <td>...</td>\n",
       "      <td>Month-to-month</td>\n",
       "      <td>Yes</td>\n",
       "      <td>Electronic check</td>\n",
       "      <td>99.65</td>\n",
       "      <td>820.5</td>\n",
       "      <td>Yes</td>\n",
       "      <td>1</td>\n",
       "      <td>86</td>\n",
       "      <td>5372</td>\n",
       "      <td>Moved</td>\n",
       "    </tr>\n",
       "    <tr>\n",
       "      <th>3</th>\n",
       "      <td>7892-POOKP</td>\n",
       "      <td>1</td>\n",
       "      <td>United States</td>\n",
       "      <td>California</td>\n",
       "      <td>Los Angeles</td>\n",
       "      <td>90010</td>\n",
       "      <td>34.062125, -118.315709</td>\n",
       "      <td>34.062125</td>\n",
       "      <td>-118.315709</td>\n",
       "      <td>Female</td>\n",
       "      <td>...</td>\n",
       "      <td>Month-to-month</td>\n",
       "      <td>Yes</td>\n",
       "      <td>Electronic check</td>\n",
       "      <td>104.80</td>\n",
       "      <td>3046.05</td>\n",
       "      <td>Yes</td>\n",
       "      <td>1</td>\n",
       "      <td>84</td>\n",
       "      <td>5003</td>\n",
       "      <td>Moved</td>\n",
       "    </tr>\n",
       "    <tr>\n",
       "      <th>4</th>\n",
       "      <td>0280-XJGEX</td>\n",
       "      <td>1</td>\n",
       "      <td>United States</td>\n",
       "      <td>California</td>\n",
       "      <td>Los Angeles</td>\n",
       "      <td>90015</td>\n",
       "      <td>34.039224, -118.266293</td>\n",
       "      <td>34.039224</td>\n",
       "      <td>-118.266293</td>\n",
       "      <td>Male</td>\n",
       "      <td>...</td>\n",
       "      <td>Month-to-month</td>\n",
       "      <td>Yes</td>\n",
       "      <td>Bank transfer (automatic)</td>\n",
       "      <td>103.70</td>\n",
       "      <td>5036.3</td>\n",
       "      <td>Yes</td>\n",
       "      <td>1</td>\n",
       "      <td>89</td>\n",
       "      <td>5340</td>\n",
       "      <td>Competitor had better devices</td>\n",
       "    </tr>\n",
       "  </tbody>\n",
       "</table>\n",
       "<p>5 rows × 33 columns</p>\n",
       "</div>"
      ],
      "text/plain": [
       "   CustomerID  Count        Country       State         City  Zip Code  \\\n",
       "0  3668-QPYBK      1  United States  California  Los Angeles     90003   \n",
       "1  9237-HQITU      1  United States  California  Los Angeles     90005   \n",
       "2  9305-CDSKC      1  United States  California  Los Angeles     90006   \n",
       "3  7892-POOKP      1  United States  California  Los Angeles     90010   \n",
       "4  0280-XJGEX      1  United States  California  Los Angeles     90015   \n",
       "\n",
       "                 Lat Long   Latitude   Longitude  Gender  ...        Contract  \\\n",
       "0  33.964131, -118.272783  33.964131 -118.272783    Male  ...  Month-to-month   \n",
       "1   34.059281, -118.30742  34.059281 -118.307420  Female  ...  Month-to-month   \n",
       "2  34.048013, -118.293953  34.048013 -118.293953  Female  ...  Month-to-month   \n",
       "3  34.062125, -118.315709  34.062125 -118.315709  Female  ...  Month-to-month   \n",
       "4  34.039224, -118.266293  34.039224 -118.266293    Male  ...  Month-to-month   \n",
       "\n",
       "  Paperless Billing             Payment Method  Monthly Charges Total Charges  \\\n",
       "0               Yes               Mailed check            53.85        108.15   \n",
       "1               Yes           Electronic check            70.70        151.65   \n",
       "2               Yes           Electronic check            99.65         820.5   \n",
       "3               Yes           Electronic check           104.80       3046.05   \n",
       "4               Yes  Bank transfer (automatic)           103.70        5036.3   \n",
       "\n",
       "  Churn Label Churn Value Churn Score  CLTV                   Churn Reason  \n",
       "0         Yes           1          86  3239   Competitor made better offer  \n",
       "1         Yes           1          67  2701                          Moved  \n",
       "2         Yes           1          86  5372                          Moved  \n",
       "3         Yes           1          84  5003                          Moved  \n",
       "4         Yes           1          89  5340  Competitor had better devices  \n",
       "\n",
       "[5 rows x 33 columns]"
      ]
     },
     "execution_count": 2,
     "metadata": {},
     "output_type": "execute_result"
    }
   ],
   "source": [
    "df = pd.read_excel('TelcoCustomerChurn.xlsx')\n",
    "df.info()\n",
    "df.head()"
   ]
  },
  {
   "cell_type": "code",
   "execution_count": 3,
   "id": "93be2ad9",
   "metadata": {},
   "outputs": [
    {
     "data": {
      "text/plain": [
       "array(['Competitor made better offer', 'Moved',\n",
       "       'Competitor had better devices',\n",
       "       'Competitor offered higher download speeds',\n",
       "       'Competitor offered more data', 'Price too high',\n",
       "       'Product dissatisfaction', 'Service dissatisfaction',\n",
       "       'Lack of self-service on Website', 'Network reliability',\n",
       "       'Limited range of services',\n",
       "       'Lack of affordable download/upload speed',\n",
       "       'Long distance charges', 'Extra data charges', \"Don't know\",\n",
       "       'Poor expertise of online support',\n",
       "       'Poor expertise of phone support', 'Attitude of service provider',\n",
       "       'Attitude of support person', 'Deceased', nan], dtype=object)"
      ]
     },
     "execution_count": 3,
     "metadata": {},
     "output_type": "execute_result"
    }
   ],
   "source": [
    "#find the reason for the churn and then choose the data to use\n",
    "\n",
    "df[\"Churn Reason\"].unique()"
   ]
  },
  {
   "cell_type": "code",
   "execution_count": 4,
   "id": "fee28579",
   "metadata": {},
   "outputs": [
    {
     "data": {
      "text/plain": [
       "'Longitude, Latitude, Internet Service, Online Backup, Tech Support,\\nStreaming TV, Streaming Movies, Monthly Charges'"
      ]
     },
     "execution_count": 4,
     "metadata": {},
     "output_type": "execute_result"
    }
   ],
   "source": [
    "\"\"\"Longitude, Latitude, Internet Service, Online Backup, Tech Support,\n",
    "Streaming TV, Streaming Movies, Monthly Charges\"\"\""
   ]
  },
  {
   "cell_type": "code",
   "execution_count": 5,
   "id": "eec4a7ba",
   "metadata": {},
   "outputs": [
    {
     "data": {
      "text/plain": [
       "'In order for all the values to function all values\\nmust be in or float.\\nThe next function changes all strings into int so that we can use the data'"
      ]
     },
     "execution_count": 5,
     "metadata": {},
     "output_type": "execute_result"
    }
   ],
   "source": [
    "\"\"\"In order for all the values to function all values\n",
    "must be in or float.\n",
    "The next function changes all strings into int so that we can use the data\"\"\"\n"
   ]
  },
  {
   "cell_type": "code",
   "execution_count": 6,
   "id": "3f0548a4",
   "metadata": {},
   "outputs": [
    {
     "name": "stdout",
     "output_type": "stream",
     "text": [
      "     Internet Service        Online Backup         Tech Support  \\\n",
      "0                 DSL                  Yes                   No   \n",
      "1         Fiber optic                   No                   No   \n",
      "2         Fiber optic                   No                   No   \n",
      "3         Fiber optic                   No                  Yes   \n",
      "4         Fiber optic                  Yes                   No   \n",
      "...               ...                  ...                  ...   \n",
      "7038               No  No internet service  No internet service   \n",
      "7039              DSL                   No                  Yes   \n",
      "7040      Fiber optic                  Yes                   No   \n",
      "7041              DSL                   No                   No   \n",
      "7042      Fiber optic                   No                  Yes   \n",
      "\n",
      "             Streaming TV     Streaming Movies  \n",
      "0                      No                   No  \n",
      "1                      No                   No  \n",
      "2                     Yes                  Yes  \n",
      "3                     Yes                  Yes  \n",
      "4                     Yes                  Yes  \n",
      "...                   ...                  ...  \n",
      "7038  No internet service  No internet service  \n",
      "7039                  Yes                  Yes  \n",
      "7040                  Yes                  Yes  \n",
      "7041                   No                   No  \n",
      "7042                  Yes                  Yes  \n",
      "\n",
      "[7043 rows x 5 columns]\n",
      "      Internet Service  Online Backup  Tech Support  Streaming TV  \\\n",
      "0                    1              2             1             1   \n",
      "1                    2              1             1             1   \n",
      "2                    2              1             1             2   \n",
      "3                    2              1             2             2   \n",
      "4                    2              2             1             2   \n",
      "...                ...            ...           ...           ...   \n",
      "7038                 0              0             0             0   \n",
      "7039                 1              1             2             2   \n",
      "7040                 2              2             1             2   \n",
      "7041                 1              1             1             1   \n",
      "7042                 2              1             2             2   \n",
      "\n",
      "      Streaming Movies  \n",
      "0                    1  \n",
      "1                    1  \n",
      "2                    2  \n",
      "3                    2  \n",
      "4                    2  \n",
      "...                ...  \n",
      "7038                 0  \n",
      "7039                 2  \n",
      "7040                 2  \n",
      "7041                 1  \n",
      "7042                 2  \n",
      "\n",
      "[7043 rows x 5 columns]\n"
     ]
    }
   ],
   "source": [
    "#cleaning data\n",
    "\n",
    "print(df[['Internet Service','Online Backup','Tech Support','Streaming TV','Streaming Movies']])\n",
    "\n",
    "\n",
    "\n",
    "df['Internet Service'] = df['Internet Service'].map({'Fiber optic' : 2, 'DSL':1,'No':0})\n",
    "\n",
    "df['Online Backup'] = df['Online Backup'].map({'Yes' : 2, 'No':1,'No internet service':0})\n",
    "\n",
    "df['Tech Support'] = df['Tech Support'].map({'Yes' : 2, 'No':1,'No internet service':0})\n",
    "\n",
    "df['Streaming TV'] = df['Streaming TV'].map({'Yes' : 2, 'No':1,'No internet service':0})\n",
    "\n",
    "df['Streaming Movies'] = df['Streaming Movies'].map({'Yes' : 2, 'No':1 , 'No internet service':0})\n",
    "\n",
    "\n",
    "\n",
    "print(df[['Internet Service','Online Backup','Tech Support','Streaming TV','Streaming Movies']])\n"
   ]
  },
  {
   "cell_type": "code",
   "execution_count": 7,
   "id": "8d23df2f",
   "metadata": {},
   "outputs": [
    {
     "data": {
      "text/plain": [
       "\"df.to_excel('TelcoCustomerChurnCleanData.xlsx', sheet_name='TelcoCustomerChurnCleanData')\""
      ]
     },
     "execution_count": 7,
     "metadata": {},
     "output_type": "execute_result"
    }
   ],
   "source": [
    "#Creating a new excel with the clean data\n",
    "\"\"\"df.to_excel('TelcoCustomerChurnCleanData.xlsx', sheet_name='TelcoCustomerChurnCleanData')\"\"\""
   ]
  },
  {
   "cell_type": "code",
   "execution_count": 8,
   "id": "a5647896",
   "metadata": {},
   "outputs": [
    {
     "data": {
      "text/plain": [
       "\"df = pd.read_excel('TelcoCustomerChurnCleanData.xlsx')\""
      ]
     },
     "execution_count": 8,
     "metadata": {},
     "output_type": "execute_result"
    }
   ],
   "source": [
    "#Using the new data (If needed)(If the code take too long to run)\n",
    "\"\"\"df = pd.read_excel('TelcoCustomerChurnCleanData.xlsx')\"\"\""
   ]
  },
  {
   "cell_type": "code",
   "execution_count": 23,
   "id": "05f7ba5e",
   "metadata": {
    "scrolled": true
   },
   "outputs": [
    {
     "data": {
      "text/html": [
       "<style type=\"text/css\">\n",
       "#T_1db45_row0_col0, #T_1db45_row1_col1, #T_1db45_row2_col2, #T_1db45_row3_col3, #T_1db45_row4_col4, #T_1db45_row5_col5, #T_1db45_row6_col6, #T_1db45_row7_col7 {\n",
       "  background-color: #003c30;\n",
       "  color: #f1f1f1;\n",
       "}\n",
       "#T_1db45_row0_col1, #T_1db45_row0_col2, #T_1db45_row0_col3, #T_1db45_row0_col4, #T_1db45_row0_col5, #T_1db45_row0_col6, #T_1db45_row0_col7, #T_1db45_row1_col0 {\n",
       "  background-color: #543005;\n",
       "  color: #f1f1f1;\n",
       "}\n",
       "#T_1db45_row1_col2 {\n",
       "  background-color: #6e4007;\n",
       "  color: #f1f1f1;\n",
       "}\n",
       "#T_1db45_row1_col3 {\n",
       "  background-color: #6a3d07;\n",
       "  color: #f1f1f1;\n",
       "}\n",
       "#T_1db45_row1_col4 {\n",
       "  background-color: #5f3606;\n",
       "  color: #f1f1f1;\n",
       "}\n",
       "#T_1db45_row1_col5, #T_1db45_row7_col4 {\n",
       "  background-color: #683c07;\n",
       "  color: #f1f1f1;\n",
       "}\n",
       "#T_1db45_row1_col6 {\n",
       "  background-color: #663a07;\n",
       "  color: #f1f1f1;\n",
       "}\n",
       "#T_1db45_row1_col7 {\n",
       "  background-color: #583305;\n",
       "  color: #f1f1f1;\n",
       "}\n",
       "#T_1db45_row2_col0 {\n",
       "  background-color: #f5efde;\n",
       "  color: #000000;\n",
       "}\n",
       "#T_1db45_row2_col1, #T_1db45_row3_col1, #T_1db45_row5_col1 {\n",
       "  background-color: #f5f3ec;\n",
       "  color: #000000;\n",
       "}\n",
       "#T_1db45_row2_col3 {\n",
       "  background-color: #9ad8ce;\n",
       "  color: #000000;\n",
       "}\n",
       "#T_1db45_row2_col4 {\n",
       "  background-color: #cbebe6;\n",
       "  color: #000000;\n",
       "}\n",
       "#T_1db45_row2_col5, #T_1db45_row2_col6, #T_1db45_row6_col2 {\n",
       "  background-color: #6abdb2;\n",
       "  color: #000000;\n",
       "}\n",
       "#T_1db45_row2_col7 {\n",
       "  background-color: #e3c989;\n",
       "  color: #000000;\n",
       "}\n",
       "#T_1db45_row3_col0, #T_1db45_row5_col0, #T_1db45_row6_col0 {\n",
       "  background-color: #f5f0e0;\n",
       "  color: #000000;\n",
       "}\n",
       "#T_1db45_row3_col2 {\n",
       "  background-color: #98d7cd;\n",
       "  color: #000000;\n",
       "}\n",
       "#T_1db45_row3_col4, #T_1db45_row4_col3 {\n",
       "  background-color: #76c6ba;\n",
       "  color: #000000;\n",
       "}\n",
       "#T_1db45_row3_col5, #T_1db45_row3_col6, #T_1db45_row5_col4, #T_1db45_row6_col3 {\n",
       "  background-color: #7ccabe;\n",
       "  color: #000000;\n",
       "}\n",
       "#T_1db45_row3_col7 {\n",
       "  background-color: #7e4909;\n",
       "  color: #f1f1f1;\n",
       "}\n",
       "#T_1db45_row4_col0 {\n",
       "  background-color: #f5f0e2;\n",
       "  color: #000000;\n",
       "}\n",
       "#T_1db45_row4_col1 {\n",
       "  background-color: #f5f2e8;\n",
       "  color: #000000;\n",
       "}\n",
       "#T_1db45_row4_col2 {\n",
       "  background-color: #c9eae6;\n",
       "  color: #000000;\n",
       "}\n",
       "#T_1db45_row4_col5, #T_1db45_row4_col6, #T_1db45_row5_col3, #T_1db45_row6_col4 {\n",
       "  background-color: #79c8bc;\n",
       "  color: #000000;\n",
       "}\n",
       "#T_1db45_row4_col7 {\n",
       "  background-color: #633906;\n",
       "  color: #f1f1f1;\n",
       "}\n",
       "#T_1db45_row5_col2 {\n",
       "  background-color: #67bbb0;\n",
       "  color: #000000;\n",
       "}\n",
       "#T_1db45_row5_col6, #T_1db45_row6_col5 {\n",
       "  background-color: #2f9189;\n",
       "  color: #f1f1f1;\n",
       "}\n",
       "#T_1db45_row5_col7, #T_1db45_row6_col7 {\n",
       "  background-color: #ad7021;\n",
       "  color: #f1f1f1;\n",
       "}\n",
       "#T_1db45_row6_col1 {\n",
       "  background-color: #f5f2ea;\n",
       "  color: #000000;\n",
       "}\n",
       "#T_1db45_row7_col0 {\n",
       "  background-color: #f5f1e4;\n",
       "  color: #000000;\n",
       "}\n",
       "#T_1db45_row7_col1 {\n",
       "  background-color: #f5f1e6;\n",
       "  color: #000000;\n",
       "}\n",
       "#T_1db45_row7_col2 {\n",
       "  background-color: #e7cf94;\n",
       "  color: #000000;\n",
       "}\n",
       "#T_1db45_row7_col3 {\n",
       "  background-color: #844c09;\n",
       "  color: #f1f1f1;\n",
       "}\n",
       "#T_1db45_row7_col5, #T_1db45_row7_col6 {\n",
       "  background-color: #b17423;\n",
       "  color: #f1f1f1;\n",
       "}\n",
       "</style>\n",
       "<table id=\"T_1db45\">\n",
       "  <thead>\n",
       "    <tr>\n",
       "      <th class=\"blank level0\" >&nbsp;</th>\n",
       "      <th id=\"T_1db45_level0_col0\" class=\"col_heading level0 col0\" >Latitude</th>\n",
       "      <th id=\"T_1db45_level0_col1\" class=\"col_heading level0 col1\" >Longitude</th>\n",
       "      <th id=\"T_1db45_level0_col2\" class=\"col_heading level0 col2\" >Internet Service</th>\n",
       "      <th id=\"T_1db45_level0_col3\" class=\"col_heading level0 col3\" >Online Backup</th>\n",
       "      <th id=\"T_1db45_level0_col4\" class=\"col_heading level0 col4\" >Tech Support</th>\n",
       "      <th id=\"T_1db45_level0_col5\" class=\"col_heading level0 col5\" >Streaming TV</th>\n",
       "      <th id=\"T_1db45_level0_col6\" class=\"col_heading level0 col6\" >Streaming Movies</th>\n",
       "      <th id=\"T_1db45_level0_col7\" class=\"col_heading level0 col7\" >Churn Value</th>\n",
       "    </tr>\n",
       "  </thead>\n",
       "  <tbody>\n",
       "    <tr>\n",
       "      <th id=\"T_1db45_level0_row0\" class=\"row_heading level0 row0\" >Latitude</th>\n",
       "      <td id=\"T_1db45_row0_col0\" class=\"data row0 col0\" >1.000000</td>\n",
       "      <td id=\"T_1db45_row0_col1\" class=\"data row0 col1\" >-0.876779</td>\n",
       "      <td id=\"T_1db45_row0_col2\" class=\"data row0 col2\" >-0.022851</td>\n",
       "      <td id=\"T_1db45_row0_col3\" class=\"data row0 col3\" >-0.014916</td>\n",
       "      <td id=\"T_1db45_row0_col4\" class=\"data row0 col4\" >-0.009528</td>\n",
       "      <td id=\"T_1db45_row0_col5\" class=\"data row0 col5\" >-0.012916</td>\n",
       "      <td id=\"T_1db45_row0_col6\" class=\"data row0 col6\" >-0.014657</td>\n",
       "      <td id=\"T_1db45_row0_col7\" class=\"data row0 col7\" >-0.003384</td>\n",
       "    </tr>\n",
       "    <tr>\n",
       "      <th id=\"T_1db45_level0_row1\" class=\"row_heading level0 row1\" >Longitude</th>\n",
       "      <td id=\"T_1db45_row1_col0\" class=\"data row1 col0\" >-0.876779</td>\n",
       "      <td id=\"T_1db45_row1_col1\" class=\"data row1 col1\" >1.000000</td>\n",
       "      <td id=\"T_1db45_row1_col2\" class=\"data row1 col2\" >0.026578</td>\n",
       "      <td id=\"T_1db45_row1_col3\" class=\"data row1 col3\" >0.026253</td>\n",
       "      <td id=\"T_1db45_row1_col4\" class=\"data row1 col4\" >0.012480</td>\n",
       "      <td id=\"T_1db45_row1_col5\" class=\"data row1 col5\" >0.025799</td>\n",
       "      <td id=\"T_1db45_row1_col6\" class=\"data row1 col6\" >0.019105</td>\n",
       "      <td id=\"T_1db45_row1_col7\" class=\"data row1 col7\" >0.004594</td>\n",
       "    </tr>\n",
       "    <tr>\n",
       "      <th id=\"T_1db45_level0_row2\" class=\"row_heading level0 row2\" >Internet Service</th>\n",
       "      <td id=\"T_1db45_row2_col0\" class=\"data row2 col0\" >-0.022851</td>\n",
       "      <td id=\"T_1db45_row2_col1\" class=\"data row2 col1\" >0.026578</td>\n",
       "      <td id=\"T_1db45_row2_col2\" class=\"data row2 col2\" >1.000000</td>\n",
       "      <td id=\"T_1db45_row2_col3\" class=\"data row2 col3\" >0.658718</td>\n",
       "      <td id=\"T_1db45_row2_col4\" class=\"data row2 col4\" >0.586074</td>\n",
       "      <td id=\"T_1db45_row2_col5\" class=\"data row2 col5\" >0.725645</td>\n",
       "      <td id=\"T_1db45_row2_col6\" class=\"data row2 col6\" >0.723065</td>\n",
       "      <td id=\"T_1db45_row2_col7\" class=\"data row2 col7\" >0.316846</td>\n",
       "    </tr>\n",
       "    <tr>\n",
       "      <th id=\"T_1db45_level0_row3\" class=\"row_heading level0 row3\" >Online Backup</th>\n",
       "      <td id=\"T_1db45_row3_col0\" class=\"data row3 col0\" >-0.014916</td>\n",
       "      <td id=\"T_1db45_row3_col1\" class=\"data row3 col1\" >0.026253</td>\n",
       "      <td id=\"T_1db45_row3_col2\" class=\"data row3 col2\" >0.658718</td>\n",
       "      <td id=\"T_1db45_row3_col3\" class=\"data row3 col3\" >1.000000</td>\n",
       "      <td id=\"T_1db45_row3_col4\" class=\"data row3 col4\" >0.709216</td>\n",
       "      <td id=\"T_1db45_row3_col5\" class=\"data row3 col5\" >0.703167</td>\n",
       "      <td id=\"T_1db45_row3_col6\" class=\"data row3 col6\" >0.700158</td>\n",
       "      <td id=\"T_1db45_row3_col7\" class=\"data row3 col7\" >0.074205</td>\n",
       "    </tr>\n",
       "    <tr>\n",
       "      <th id=\"T_1db45_level0_row4\" class=\"row_heading level0 row4\" >Tech Support</th>\n",
       "      <td id=\"T_1db45_row4_col0\" class=\"data row4 col0\" >-0.009528</td>\n",
       "      <td id=\"T_1db45_row4_col1\" class=\"data row4 col1\" >0.012480</td>\n",
       "      <td id=\"T_1db45_row4_col2\" class=\"data row4 col2\" >0.586074</td>\n",
       "      <td id=\"T_1db45_row4_col3\" class=\"data row4 col3\" >0.709216</td>\n",
       "      <td id=\"T_1db45_row4_col4\" class=\"data row4 col4\" >1.000000</td>\n",
       "      <td id=\"T_1db45_row4_col5\" class=\"data row4 col5\" >0.703866</td>\n",
       "      <td id=\"T_1db45_row4_col6\" class=\"data row4 col6\" >0.704587</td>\n",
       "      <td id=\"T_1db45_row4_col7\" class=\"data row4 col7\" >0.027037</td>\n",
       "    </tr>\n",
       "    <tr>\n",
       "      <th id=\"T_1db45_level0_row5\" class=\"row_heading level0 row5\" >Streaming TV</th>\n",
       "      <td id=\"T_1db45_row5_col0\" class=\"data row5 col0\" >-0.012916</td>\n",
       "      <td id=\"T_1db45_row5_col1\" class=\"data row5 col1\" >0.025799</td>\n",
       "      <td id=\"T_1db45_row5_col2\" class=\"data row5 col2\" >0.725645</td>\n",
       "      <td id=\"T_1db45_row5_col3\" class=\"data row5 col3\" >0.703167</td>\n",
       "      <td id=\"T_1db45_row5_col4\" class=\"data row5 col4\" >0.703866</td>\n",
       "      <td id=\"T_1db45_row5_col5\" class=\"data row5 col5\" >1.000000</td>\n",
       "      <td id=\"T_1db45_row5_col6\" class=\"data row5 col6\" >0.807221</td>\n",
       "      <td id=\"T_1db45_row5_col7\" class=\"data row5 col7\" >0.164673</td>\n",
       "    </tr>\n",
       "    <tr>\n",
       "      <th id=\"T_1db45_level0_row6\" class=\"row_heading level0 row6\" >Streaming Movies</th>\n",
       "      <td id=\"T_1db45_row6_col0\" class=\"data row6 col0\" >-0.014657</td>\n",
       "      <td id=\"T_1db45_row6_col1\" class=\"data row6 col1\" >0.019105</td>\n",
       "      <td id=\"T_1db45_row6_col2\" class=\"data row6 col2\" >0.723065</td>\n",
       "      <td id=\"T_1db45_row6_col3\" class=\"data row6 col3\" >0.700158</td>\n",
       "      <td id=\"T_1db45_row6_col4\" class=\"data row6 col4\" >0.704587</td>\n",
       "      <td id=\"T_1db45_row6_col5\" class=\"data row6 col5\" >0.807221</td>\n",
       "      <td id=\"T_1db45_row6_col6\" class=\"data row6 col6\" >1.000000</td>\n",
       "      <td id=\"T_1db45_row6_col7\" class=\"data row6 col7\" >0.163220</td>\n",
       "    </tr>\n",
       "    <tr>\n",
       "      <th id=\"T_1db45_level0_row7\" class=\"row_heading level0 row7\" >Churn Value</th>\n",
       "      <td id=\"T_1db45_row7_col0\" class=\"data row7 col0\" >-0.003384</td>\n",
       "      <td id=\"T_1db45_row7_col1\" class=\"data row7 col1\" >0.004594</td>\n",
       "      <td id=\"T_1db45_row7_col2\" class=\"data row7 col2\" >0.316846</td>\n",
       "      <td id=\"T_1db45_row7_col3\" class=\"data row7 col3\" >0.074205</td>\n",
       "      <td id=\"T_1db45_row7_col4\" class=\"data row7 col4\" >0.027037</td>\n",
       "      <td id=\"T_1db45_row7_col5\" class=\"data row7 col5\" >0.164673</td>\n",
       "      <td id=\"T_1db45_row7_col6\" class=\"data row7 col6\" >0.163220</td>\n",
       "      <td id=\"T_1db45_row7_col7\" class=\"data row7 col7\" >1.000000</td>\n",
       "    </tr>\n",
       "  </tbody>\n",
       "</table>\n"
      ],
      "text/plain": [
       "<pandas.io.formats.style.Styler at 0x1752c267390>"
      ]
     },
     "execution_count": 23,
     "metadata": {},
     "output_type": "execute_result"
    }
   ],
   "source": [
    "#Checking the datas\n",
    "correlation = df[['Latitude','Longitude','Internet Service','Online Backup','Tech Support','Streaming TV','Streaming Movies','Churn Value']].corr() \n",
    "correlation.style.background_gradient(cmap = 'BrBG')"
   ]
  },
  {
   "cell_type": "code",
   "execution_count": 10,
   "id": "81803436",
   "metadata": {},
   "outputs": [],
   "source": [
    "# We can see with the graph above that most of the values are very lowly correlated but still correlated so we can keep them"
   ]
  },
  {
   "cell_type": "code",
   "execution_count": 11,
   "id": "7f392a3e",
   "metadata": {
    "scrolled": true
   },
   "outputs": [],
   "source": [
    "# Exept from Latitude and Longitude"
   ]
  },
  {
   "cell_type": "code",
   "execution_count": null,
   "id": "25069587",
   "metadata": {},
   "outputs": [],
   "source": []
  },
  {
   "cell_type": "code",
   "execution_count": null,
   "id": "9b888833",
   "metadata": {},
   "outputs": [],
   "source": []
  },
  {
   "cell_type": "code",
   "execution_count": 12,
   "id": "9ebabdff",
   "metadata": {},
   "outputs": [],
   "source": [
    "X = df[['Internet Service', 'Online Backup', 'Tech Support','Streaming TV', 'Streaming Movies', 'Monthly Charges']]\n",
    "y = df['Churn Value']\n",
    "X_train, X_test, y_train, y_test = train_test_split(X,\n",
    "                                                    y,\n",
    "                                                    test_size = 0.25,\n",
    "                                                    random_state = 1)"
   ]
  },
  {
   "cell_type": "code",
   "execution_count": 13,
   "id": "d3889396",
   "metadata": {},
   "outputs": [
    {
     "data": {
      "text/html": [
       "<style>#sk-container-id-1 {color: black;}#sk-container-id-1 pre{padding: 0;}#sk-container-id-1 div.sk-toggleable {background-color: white;}#sk-container-id-1 label.sk-toggleable__label {cursor: pointer;display: block;width: 100%;margin-bottom: 0;padding: 0.3em;box-sizing: border-box;text-align: center;}#sk-container-id-1 label.sk-toggleable__label-arrow:before {content: \"▸\";float: left;margin-right: 0.25em;color: #696969;}#sk-container-id-1 label.sk-toggleable__label-arrow:hover:before {color: black;}#sk-container-id-1 div.sk-estimator:hover label.sk-toggleable__label-arrow:before {color: black;}#sk-container-id-1 div.sk-toggleable__content {max-height: 0;max-width: 0;overflow: hidden;text-align: left;background-color: #f0f8ff;}#sk-container-id-1 div.sk-toggleable__content pre {margin: 0.2em;color: black;border-radius: 0.25em;background-color: #f0f8ff;}#sk-container-id-1 input.sk-toggleable__control:checked~div.sk-toggleable__content {max-height: 200px;max-width: 100%;overflow: auto;}#sk-container-id-1 input.sk-toggleable__control:checked~label.sk-toggleable__label-arrow:before {content: \"▾\";}#sk-container-id-1 div.sk-estimator input.sk-toggleable__control:checked~label.sk-toggleable__label {background-color: #d4ebff;}#sk-container-id-1 div.sk-label input.sk-toggleable__control:checked~label.sk-toggleable__label {background-color: #d4ebff;}#sk-container-id-1 input.sk-hidden--visually {border: 0;clip: rect(1px 1px 1px 1px);clip: rect(1px, 1px, 1px, 1px);height: 1px;margin: -1px;overflow: hidden;padding: 0;position: absolute;width: 1px;}#sk-container-id-1 div.sk-estimator {font-family: monospace;background-color: #f0f8ff;border: 1px dotted black;border-radius: 0.25em;box-sizing: border-box;margin-bottom: 0.5em;}#sk-container-id-1 div.sk-estimator:hover {background-color: #d4ebff;}#sk-container-id-1 div.sk-parallel-item::after {content: \"\";width: 100%;border-bottom: 1px solid gray;flex-grow: 1;}#sk-container-id-1 div.sk-label:hover label.sk-toggleable__label {background-color: #d4ebff;}#sk-container-id-1 div.sk-serial::before {content: \"\";position: absolute;border-left: 1px solid gray;box-sizing: border-box;top: 0;bottom: 0;left: 50%;z-index: 0;}#sk-container-id-1 div.sk-serial {display: flex;flex-direction: column;align-items: center;background-color: white;padding-right: 0.2em;padding-left: 0.2em;position: relative;}#sk-container-id-1 div.sk-item {position: relative;z-index: 1;}#sk-container-id-1 div.sk-parallel {display: flex;align-items: stretch;justify-content: center;background-color: white;position: relative;}#sk-container-id-1 div.sk-item::before, #sk-container-id-1 div.sk-parallel-item::before {content: \"\";position: absolute;border-left: 1px solid gray;box-sizing: border-box;top: 0;bottom: 0;left: 50%;z-index: -1;}#sk-container-id-1 div.sk-parallel-item {display: flex;flex-direction: column;z-index: 1;position: relative;background-color: white;}#sk-container-id-1 div.sk-parallel-item:first-child::after {align-self: flex-end;width: 50%;}#sk-container-id-1 div.sk-parallel-item:last-child::after {align-self: flex-start;width: 50%;}#sk-container-id-1 div.sk-parallel-item:only-child::after {width: 0;}#sk-container-id-1 div.sk-dashed-wrapped {border: 1px dashed gray;margin: 0 0.4em 0.5em 0.4em;box-sizing: border-box;padding-bottom: 0.4em;background-color: white;}#sk-container-id-1 div.sk-label label {font-family: monospace;font-weight: bold;display: inline-block;line-height: 1.2em;}#sk-container-id-1 div.sk-label-container {text-align: center;}#sk-container-id-1 div.sk-container {/* jupyter's `normalize.less` sets `[hidden] { display: none; }` but bootstrap.min.css set `[hidden] { display: none !important; }` so we also need the `!important` here to be able to override the default hidden behavior on the sphinx rendered scikit-learn.org. See: https://github.com/scikit-learn/scikit-learn/issues/21755 */display: inline-block !important;position: relative;}#sk-container-id-1 div.sk-text-repr-fallback {display: none;}</style><div id=\"sk-container-id-1\" class=\"sk-top-container\"><div class=\"sk-text-repr-fallback\"><pre>RandomForestClassifier(min_samples_split=134, n_estimators=41, random_state=1)</pre><b>In a Jupyter environment, please rerun this cell to show the HTML representation or trust the notebook. <br />On GitHub, the HTML representation is unable to render, please try loading this page with nbviewer.org.</b></div><div class=\"sk-container\" hidden><div class=\"sk-item\"><div class=\"sk-estimator sk-toggleable\"><input class=\"sk-toggleable__control sk-hidden--visually\" id=\"sk-estimator-id-1\" type=\"checkbox\" checked><label for=\"sk-estimator-id-1\" class=\"sk-toggleable__label sk-toggleable__label-arrow\">RandomForestClassifier</label><div class=\"sk-toggleable__content\"><pre>RandomForestClassifier(min_samples_split=134, n_estimators=41, random_state=1)</pre></div></div></div></div></div>"
      ],
      "text/plain": [
       "RandomForestClassifier(min_samples_split=134, n_estimators=41, random_state=1)"
      ]
     },
     "execution_count": 13,
     "metadata": {},
     "output_type": "execute_result"
    }
   ],
   "source": [
    "rf = RandomForestClassifier(\n",
    "    n_estimators = 41,\n",
    "    max_depth = None,\n",
    "    min_samples_split = 134,\n",
    "    random_state = 1\n",
    ")\n",
    "rf.fit(X_train, y_train)"
   ]
  },
  {
   "cell_type": "code",
   "execution_count": 14,
   "id": "8c439bbb",
   "metadata": {},
   "outputs": [
    {
     "data": {
      "image/png": "[encoded data removed]",
      "text/plain": [
       "<Figure size 400x300 with 2 Axes>"
      ]
     },
     "metadata": {},
     "output_type": "display_data"
    }
   ],
   "source": [
    "from sklearn.metrics import accuracy_score, confusion_matrix, ConfusionMatrixDisplay\n",
    "\n",
    "y_pred = rf.predict(X_test)\n",
    "\n",
    "cm = pd.DataFrame(confusion_matrix(y_test, y_pred),\n",
    "             index = [\"Data Churn\", \"Data not Churn\"],\n",
    "             columns = [\"Predict Churn\", \"Predict not Churn\"])\n",
    "plt.figure(figsize=(4,3))\n",
    "sns.heatmap(cm, annot=True, cmap = 'BuPu')\n",
    "plt.title('Confusion Matrix')\n",
    "plt.ylabel('Data Values')\n",
    "plt.xlabel('Predicted Values')\n",
    "plt.show()"
   ]
  },
  {
   "cell_type": "code",
   "execution_count": 15,
   "id": "1e1bc2f5",
   "metadata": {},
   "outputs": [
    {
     "name": "stdout",
     "output_type": "stream",
     "text": [
      "The accuracy of this model is: 0.7739920499716071\n"
     ]
    }
   ],
   "source": [
    "accuracy = accuracy_score(y_test, y_pred)\n",
    "print(f\"The accuracy of this model is: {accuracy}\")"
   ]
  },
  {
   "cell_type": "code",
   "execution_count": 16,
   "id": "410f6440",
   "metadata": {},
   "outputs": [
    {
     "data": {
      "image/png": "[encoded data removed]",
      "text/plain": [
       "<Figure size 640x480 with 1 Axes>"
      ]
     },
     "metadata": {},
     "output_type": "display_data"
    }
   ],
   "source": [
    "importance = pd.DataFrame(rf.feature_importances_,\n",
    "              index = X_train.columns, \n",
    "              columns = [\"importance\"]).sort_values(\n",
    "     \"importance\", \n",
    "     ascending = False)\n",
    "importance.plot(kind='bar')\n",
    "plt.ylabel('Proportion of importance')\n",
    "plt.title('Importance of each values in the random forest algorithm')\n",
    "plt.show()"
   ]
  },
  {
   "cell_type": "code",
   "execution_count": 17,
   "id": "16e55e56",
   "metadata": {},
   "outputs": [],
   "source": [
    "# The following code will test a multitude of ultra parameters in order for the program to be more accurate\n",
    "# The code can be tried but its useless and time taking to get results\n",
    "# So the important results will be noted below"
   ]
  },
  {
   "cell_type": "code",
   "execution_count": 18,
   "id": "7d6f81fe",
   "metadata": {},
   "outputs": [
    {
     "data": {
      "text/plain": [
       "'maxi = 0\\nimax = 0\\njmax = 0\\nfor i in range(1,500):\\n    for j in range(2,200):\\n        rf = RandomForestClassifier(\\n                n_estimators = i,\\n                max_depth = None,\\n                min_samples_split = j,\\n                random_state = 1\\n        )\\n        rf.fit(X_train, y_train)\\n        y_pred = rf.predict(X_test)\\n        accuracy = accuracy_score(y_test, y_pred)\\n        if(accuracy > maxi):\\n            maxi = accuracy\\n            imax = i\\n            jmax = j\\n        print(f\"i = {i}, j = {j}, accuracy = {accuracy}\")\\n        print(f\"accuracy max = {maxi}\\nimax = {imax}\\njmax = {jmax}\\n\")'"
      ]
     },
     "execution_count": 18,
     "metadata": {},
     "output_type": "execute_result"
    }
   ],
   "source": [
    "\"\"\"maxi = 0\n",
    "imax = 0\n",
    "jmax = 0\n",
    "for i in range(1,500):\n",
    "    for j in range(2,200):\n",
    "        rf = RandomForestClassifier(\n",
    "                n_estimators = i,\n",
    "                max_depth = None,\n",
    "                min_samples_split = j,\n",
    "                random_state = 1\n",
    "        )\n",
    "        rf.fit(X_train, y_train)\n",
    "        y_pred = rf.predict(X_test)\n",
    "        accuracy = accuracy_score(y_test, y_pred)\n",
    "        if(accuracy > maxi):\n",
    "            maxi = accuracy\n",
    "            imax = i\n",
    "            jmax = j\n",
    "        print(f\"i = {i}, j = {j}, accuracy = {accuracy}\")\n",
    "        print(f\"accuracy max = {maxi}\\nimax = {imax}\\njmax = {jmax}\\n\")\"\"\"    "
   ]
  },
  {
   "cell_type": "code",
   "execution_count": 19,
   "id": "75727ef4",
   "metadata": {},
   "outputs": [],
   "source": [
    "# after running this code for a while we can conclude that the best parameters are i = 41 and j = 134"
   ]
  },
  {
   "cell_type": "code",
   "execution_count": null,
   "id": "7dc773e5",
   "metadata": {},
   "outputs": [],
   "source": []
  },
  {
   "cell_type": "code",
   "execution_count": null,
   "id": "5fe5ec50",
   "metadata": {},
   "outputs": [],
   "source": []
  }
 ],
 "metadata": {
  "kernelspec": {
   "display_name": "Python 3 (ipykernel)",
   "language": "python",
   "name": "python3"
  },
  "language_info": {
   "codemirror_mode": {
    "name": "ipython",
    "version": 3
   },
   "file_extension": ".py",
   "mimetype": "text/x-python",
   "name": "python",
   "nbconvert_exporter": "python",
   "pygments_lexer": "ipython3",
   "version": "3.11.4"
  }
 },
 "nbformat": 4,
 "nbformat_minor": 5
}
